{
 "cells": [
  {
   "cell_type": "code",
   "execution_count": 1,
   "metadata": {
    "scrolled": true
   },
   "outputs": [
    {
     "ename": "NameError",
     "evalue": "name 'true' is not defined",
     "output_type": "error",
     "traceback": [
      "\u001b[1;31m---------------------------------------------------------------------------\u001b[0m",
      "\u001b[1;31mNameError\u001b[0m                                 Traceback (most recent call last)",
      "\u001b[1;32m<ipython-input-1-a1c7b653df1e>\u001b[0m in \u001b[0;36m<module>\u001b[1;34m\u001b[0m\n\u001b[1;32m----> 1\u001b[1;33m \u001b[0mhappy\u001b[0m \u001b[1;33m=\u001b[0m \u001b[0mtrue\u001b[0m\u001b[1;33m\u001b[0m\u001b[1;33m\u001b[0m\u001b[0m\n\u001b[0m\u001b[0;32m      2\u001b[0m \u001b[0mprint\u001b[0m\u001b[1;33m(\u001b[0m\u001b[1;34m\"happy variable is set to\"\u001b[0m\u001b[1;33m,\u001b[0m \u001b[0mhappy\u001b[0m\u001b[1;33m)\u001b[0m\u001b[1;33m\u001b[0m\u001b[1;33m\u001b[0m\u001b[0m\n",
      "\u001b[1;31mNameError\u001b[0m: name 'true' is not defined"
     ]
    }
   ],
   "source": [
    "happy = true\n",
    "print(\"happy variable is set to\", happy)"
   ]
  },
  {
   "cell_type": "code",
   "execution_count": 2,
   "metadata": {},
   "outputs": [
    {
     "name": "stdout",
     "output_type": "stream",
     "text": [
      "Happy variable is set to  True\n"
     ]
    }
   ],
   "source": [
    "Happy = True\n",
    "print (\"Happy variable is set to \", Happy)"
   ]
  },
  {
   "cell_type": "code",
   "execution_count": 3,
   "metadata": {},
   "outputs": [],
   "source": [
    "import os"
   ]
  },
  {
   "cell_type": "code",
   "execution_count": 4,
   "metadata": {},
   "outputs": [
    {
     "ename": "AttributeError",
     "evalue": "module 'os' has no attribute 'cwd'",
     "output_type": "error",
     "traceback": [
      "\u001b[1;31m---------------------------------------------------------------------------\u001b[0m",
      "\u001b[1;31mAttributeError\u001b[0m                            Traceback (most recent call last)",
      "\u001b[1;32m<ipython-input-4-cde422a26e9e>\u001b[0m in \u001b[0;36m<module>\u001b[1;34m\u001b[0m\n\u001b[1;32m----> 1\u001b[1;33m \u001b[0mos\u001b[0m\u001b[1;33m.\u001b[0m\u001b[0mcwd\u001b[0m\u001b[1;33m\u001b[0m\u001b[1;33m\u001b[0m\u001b[0m\n\u001b[0m",
      "\u001b[1;31mAttributeError\u001b[0m: module 'os' has no attribute 'cwd'"
     ]
    }
   ],
   "source": [
    "os.cwd"
   ]
  },
  {
   "cell_type": "code",
   "execution_count": 5,
   "metadata": {},
   "outputs": [
    {
     "data": {
      "text/plain": [
       "<function nt.getcwd()>"
      ]
     },
     "execution_count": 5,
     "metadata": {},
     "output_type": "execute_result"
    }
   ],
   "source": [
    "os.getcwd"
   ]
  },
  {
   "cell_type": "code",
   "execution_count": 6,
   "metadata": {},
   "outputs": [
    {
     "data": {
      "text/plain": [
       "'C:\\\\Users\\\\svvan\\\\Desktop\\\\data-prework'"
      ]
     },
     "execution_count": 6,
     "metadata": {},
     "output_type": "execute_result"
    }
   ],
   "source": [
    "os.getcwd()"
   ]
  },
  {
   "cell_type": "code",
   "execution_count": 7,
   "metadata": {},
   "outputs": [
    {
     "name": "stdout",
     "output_type": "stream",
     "text": [
      "cake is not done yet.\n",
      "cake is not done yet.\n",
      "cake is not done yet.\n",
      "cake is not done yet.\n",
      "Its done.\n"
     ]
    }
   ],
   "source": [
    "total_time = 60\n",
    "minutes_elapsed = 0\n",
    "wait = 15\n",
    "\n",
    "while minutes_elapsed < total_time:\n",
    "    print(\"cake is not done yet.\")\n",
    "    minutes_elapsed += wait\n",
    "    \n",
    "print(\"Its done.\")"
   ]
  },
  {
   "cell_type": "code",
   "execution_count": 8,
   "metadata": {},
   "outputs": [],
   "source": [
    "import os"
   ]
  },
  {
   "cell_type": "code",
   "execution_count": 9,
   "metadata": {},
   "outputs": [
    {
     "data": {
      "text/plain": [
       "'C:\\\\Users\\\\svvan\\\\Desktop\\\\data-prework'"
      ]
     },
     "execution_count": 9,
     "metadata": {},
     "output_type": "execute_result"
    }
   ],
   "source": [
    "os.getcwd()"
   ]
  },
  {
   "cell_type": "code",
   "execution_count": 10,
   "metadata": {},
   "outputs": [],
   "source": [
    "os.chdir('C:\\\\Users\\\\svvan\\\\Desktop')"
   ]
  },
  {
   "cell_type": "code",
   "execution_count": 11,
   "metadata": {},
   "outputs": [
    {
     "data": {
      "text/plain": [
       "'C:\\\\Users\\\\svvan\\\\Desktop'"
      ]
     },
     "execution_count": 11,
     "metadata": {},
     "output_type": "execute_result"
    }
   ],
   "source": [
    "os.getcwd()"
   ]
  },
  {
   "cell_type": "code",
   "execution_count": 12,
   "metadata": {},
   "outputs": [],
   "source": [
    "os.chdir('C:\\\\Users\\\\svvan\\\\downloads')"
   ]
  },
  {
   "cell_type": "code",
   "execution_count": 13,
   "metadata": {},
   "outputs": [
    {
     "data": {
      "text/plain": [
       "'C:\\\\Users\\\\svvan\\\\downloads'"
      ]
     },
     "execution_count": 13,
     "metadata": {},
     "output_type": "execute_result"
    }
   ],
   "source": [
    "os.getcwd()"
   ]
  },
  {
   "cell_type": "code",
   "execution_count": 14,
   "metadata": {},
   "outputs": [
    {
     "name": "stdout",
     "output_type": "stream",
     "text": [
      "`pwd`/`ls weight_height.csv`\n"
     ]
    }
   ],
   "source": [
    "echo `pwd`/`ls weight_height.csv`"
   ]
  },
  {
   "cell_type": "code",
   "execution_count": 15,
   "metadata": {},
   "outputs": [
    {
     "ename": "SyntaxError",
     "evalue": "invalid syntax (<ipython-input-15-03b86bcd8b17>, line 1)",
     "output_type": "error",
     "traceback": [
      "\u001b[1;36m  File \u001b[1;32m\"<ipython-input-15-03b86bcd8b17>\"\u001b[1;36m, line \u001b[1;32m1\u001b[0m\n\u001b[1;33m    $ echo `pwd`/`ls weight_height.csv`\u001b[0m\n\u001b[1;37m    ^\u001b[0m\n\u001b[1;31mSyntaxError\u001b[0m\u001b[1;31m:\u001b[0m invalid syntax\n"
     ]
    }
   ],
   "source": [
    "$ echo `pwd`/`ls weight_height.csv`"
   ]
  },
  {
   "cell_type": "code",
   "execution_count": 16,
   "metadata": {},
   "outputs": [
    {
     "ename": "SyntaxError",
     "evalue": "invalid syntax (<ipython-input-16-228ba11fab4d>, line 1)",
     "output_type": "error",
     "traceback": [
      "\u001b[1;36m  File \u001b[1;32m\"<ipython-input-16-228ba11fab4d>\"\u001b[1;36m, line \u001b[1;32m1\u001b[0m\n\u001b[1;33m    data[]\u001b[0m\n\u001b[1;37m         ^\u001b[0m\n\u001b[1;31mSyntaxError\u001b[0m\u001b[1;31m:\u001b[0m invalid syntax\n"
     ]
    }
   ],
   "source": [
    "data[]\n",
    "\n",
    "with open(\"/c/Users/svvan/downloads/weight_height.csv\", \"r\" ) as f:\n",
    "    lines = f.readlines()\n",
    "    for line in lines:\n",
    "        data.append(line.split()[0].split(\",\"))\n",
    "    "
   ]
  },
  {
   "cell_type": "code",
   "execution_count": 17,
   "metadata": {},
   "outputs": [
    {
     "ename": "SyntaxError",
     "evalue": "invalid syntax (<ipython-input-17-0cc2fb14c8be>, line 1)",
     "output_type": "error",
     "traceback": [
      "\u001b[1;36m  File \u001b[1;32m\"<ipython-input-17-0cc2fb14c8be>\"\u001b[1;36m, line \u001b[1;32m1\u001b[0m\n\u001b[1;33m    data[]\u001b[0m\n\u001b[1;37m         ^\u001b[0m\n\u001b[1;31mSyntaxError\u001b[0m\u001b[1;31m:\u001b[0m invalid syntax\n"
     ]
    }
   ],
   "source": [
    "data[]\n",
    "\n",
    "with open(\"/c/Users/svvan/downloads/weight_height.csv\", \"r\" ) as f:\n",
    "    lines = f.readlines()\n",
    "    for line in lines:\n",
    "        data.append(line.split()[0].split(\",\"))"
   ]
  },
  {
   "cell_type": "code",
   "execution_count": 18,
   "metadata": {},
   "outputs": [
    {
     "ename": "FileNotFoundError",
     "evalue": "[Errno 2] No such file or directory: '/c/Users/svvan/downloads/weight_height.csv'",
     "output_type": "error",
     "traceback": [
      "\u001b[1;31m---------------------------------------------------------------------------\u001b[0m",
      "\u001b[1;31mFileNotFoundError\u001b[0m                         Traceback (most recent call last)",
      "\u001b[1;32m<ipython-input-18-fe4a19f38716>\u001b[0m in \u001b[0;36m<module>\u001b[1;34m\u001b[0m\n\u001b[0;32m      1\u001b[0m \u001b[0mdata\u001b[0m \u001b[1;33m=\u001b[0m \u001b[1;33m[\u001b[0m\u001b[1;33m]\u001b[0m\u001b[1;33m\u001b[0m\u001b[1;33m\u001b[0m\u001b[0m\n\u001b[0;32m      2\u001b[0m \u001b[1;33m\u001b[0m\u001b[0m\n\u001b[1;32m----> 3\u001b[1;33m \u001b[1;32mwith\u001b[0m \u001b[0mopen\u001b[0m\u001b[1;33m(\u001b[0m\u001b[1;34m\"/c/Users/svvan/downloads/weight_height.csv\"\u001b[0m\u001b[1;33m,\u001b[0m \u001b[1;34m\"r\"\u001b[0m \u001b[1;33m)\u001b[0m \u001b[1;32mas\u001b[0m \u001b[0mf\u001b[0m\u001b[1;33m:\u001b[0m\u001b[1;33m\u001b[0m\u001b[1;33m\u001b[0m\u001b[0m\n\u001b[0m\u001b[0;32m      4\u001b[0m     \u001b[0mlines\u001b[0m \u001b[1;33m=\u001b[0m \u001b[0mf\u001b[0m\u001b[1;33m.\u001b[0m\u001b[0mreadlines\u001b[0m\u001b[1;33m(\u001b[0m\u001b[1;33m)\u001b[0m\u001b[1;33m\u001b[0m\u001b[1;33m\u001b[0m\u001b[0m\n\u001b[0;32m      5\u001b[0m     \u001b[1;32mfor\u001b[0m \u001b[0mline\u001b[0m \u001b[1;32min\u001b[0m \u001b[0mlines\u001b[0m\u001b[1;33m:\u001b[0m\u001b[1;33m\u001b[0m\u001b[1;33m\u001b[0m\u001b[0m\n",
      "\u001b[1;31mFileNotFoundError\u001b[0m: [Errno 2] No such file or directory: '/c/Users/svvan/downloads/weight_height.csv'"
     ]
    }
   ],
   "source": [
    "data = []\n",
    "\n",
    "with open(\"/c/Users/svvan/downloads/weight_height.csv\", \"r\" ) as f:\n",
    "    lines = f.readlines()\n",
    "    for line in lines:\n",
    "        data.append(line.split()[0].split(\",\"))"
   ]
  },
  {
   "cell_type": "code",
   "execution_count": 19,
   "metadata": {},
   "outputs": [
    {
     "ename": "OSError",
     "evalue": "[Errno 22] Invalid argument: '/C:/Users/svvan/downloads/weight_height.csv'",
     "output_type": "error",
     "traceback": [
      "\u001b[1;31m---------------------------------------------------------------------------\u001b[0m",
      "\u001b[1;31mOSError\u001b[0m                                   Traceback (most recent call last)",
      "\u001b[1;32m<ipython-input-19-031756dc398a>\u001b[0m in \u001b[0;36m<module>\u001b[1;34m\u001b[0m\n\u001b[0;32m      1\u001b[0m \u001b[0mdata\u001b[0m \u001b[1;33m=\u001b[0m \u001b[1;33m[\u001b[0m\u001b[1;33m]\u001b[0m\u001b[1;33m\u001b[0m\u001b[1;33m\u001b[0m\u001b[0m\n\u001b[0;32m      2\u001b[0m \u001b[1;33m\u001b[0m\u001b[0m\n\u001b[1;32m----> 3\u001b[1;33m \u001b[1;32mwith\u001b[0m \u001b[0mopen\u001b[0m\u001b[1;33m(\u001b[0m\u001b[1;34m\"/C:/Users/svvan/downloads/weight_height.csv\"\u001b[0m\u001b[1;33m,\u001b[0m \u001b[1;34m\"r\"\u001b[0m \u001b[1;33m)\u001b[0m \u001b[1;32mas\u001b[0m \u001b[0mf\u001b[0m\u001b[1;33m:\u001b[0m\u001b[1;33m\u001b[0m\u001b[1;33m\u001b[0m\u001b[0m\n\u001b[0m\u001b[0;32m      4\u001b[0m     \u001b[0mlines\u001b[0m \u001b[1;33m=\u001b[0m \u001b[0mf\u001b[0m\u001b[1;33m.\u001b[0m\u001b[0mreadlines\u001b[0m\u001b[1;33m(\u001b[0m\u001b[1;33m)\u001b[0m\u001b[1;33m\u001b[0m\u001b[1;33m\u001b[0m\u001b[0m\n\u001b[0;32m      5\u001b[0m     \u001b[1;32mfor\u001b[0m \u001b[0mline\u001b[0m \u001b[1;32min\u001b[0m \u001b[0mlines\u001b[0m\u001b[1;33m:\u001b[0m\u001b[1;33m\u001b[0m\u001b[1;33m\u001b[0m\u001b[0m\n",
      "\u001b[1;31mOSError\u001b[0m: [Errno 22] Invalid argument: '/C:/Users/svvan/downloads/weight_height.csv'"
     ]
    }
   ],
   "source": [
    "data = []\n",
    "\n",
    "with open(\"/C:/Users/svvan/downloads/weight_height.csv\", \"r\" ) as f:\n",
    "    lines = f.readlines()\n",
    "    for line in lines:\n",
    "        data.append(line.split()[0].split(\",\"))"
   ]
  },
  {
   "cell_type": "code",
   "execution_count": 20,
   "metadata": {},
   "outputs": [],
   "source": [
    "data = []\n",
    "\n",
    "with open(\"C:\\\\Users\\\\svvan\\\\downloads\\\\weight_height.csv\", \"r\" ) as f:\n",
    "    lines = f.readlines()\n",
    "    for line in lines:\n",
    "        data.append(line.split()[0].split(\",\"))"
   ]
  },
  {
   "cell_type": "code",
   "execution_count": 21,
   "metadata": {},
   "outputs": [
    {
     "data": {
      "text/plain": [
       "['gender',\n",
       " 'actual_weight',\n",
       " 'actual_height',\n",
       " 'reported_weight',\n",
       " 'reported_height']"
      ]
     },
     "execution_count": 21,
     "metadata": {},
     "output_type": "execute_result"
    }
   ],
   "source": [
    "data[0]"
   ]
  },
  {
   "cell_type": "code",
   "execution_count": 22,
   "metadata": {},
   "outputs": [
    {
     "data": {
      "text/plain": [
       "'M'"
      ]
     },
     "execution_count": 22,
     "metadata": {},
     "output_type": "execute_result"
    }
   ],
   "source": [
    "data[1][0]"
   ]
  },
  {
   "cell_type": "code",
   "execution_count": 23,
   "metadata": {},
   "outputs": [
    {
     "data": {
      "text/plain": [
       "'actual_weight'"
      ]
     },
     "execution_count": 23,
     "metadata": {},
     "output_type": "execute_result"
    }
   ],
   "source": [
    "data[0][1]"
   ]
  },
  {
   "cell_type": "code",
   "execution_count": 24,
   "metadata": {},
   "outputs": [
    {
     "ename": "NameError",
     "evalue": "name 'heights' is not defined",
     "output_type": "error",
     "traceback": [
      "\u001b[1;31m---------------------------------------------------------------------------\u001b[0m",
      "\u001b[1;31mNameError\u001b[0m                                 Traceback (most recent call last)",
      "\u001b[1;32m<ipython-input-24-f5ed0f4eb95c>\u001b[0m in \u001b[0;36m<module>\u001b[1;34m\u001b[0m\n\u001b[0;32m      3\u001b[0m \u001b[1;32mfor\u001b[0m \u001b[0mperson\u001b[0m \u001b[1;32min\u001b[0m \u001b[0mdata\u001b[0m\u001b[1;33m[\u001b[0m\u001b[1;36m1\u001b[0m\u001b[1;33m:\u001b[0m\u001b[1;33m]\u001b[0m\u001b[1;33m:\u001b[0m\u001b[1;33m\u001b[0m\u001b[1;33m\u001b[0m\u001b[0m\n\u001b[0;32m      4\u001b[0m     \u001b[0mheight\u001b[0m \u001b[1;33m=\u001b[0m \u001b[0mint\u001b[0m\u001b[1;33m(\u001b[0m\u001b[0mperson\u001b[0m\u001b[1;33m[\u001b[0m\u001b[1;36m2\u001b[0m\u001b[1;33m]\u001b[0m\u001b[1;33m)\u001b[0m\u001b[1;33m\u001b[0m\u001b[1;33m\u001b[0m\u001b[0m\n\u001b[1;32m----> 5\u001b[1;33m     \u001b[0mheights\u001b[0m\u001b[1;33m.\u001b[0m\u001b[0mappend\u001b[0m\u001b[1;33m(\u001b[0m\u001b[0mheight\u001b[0m\u001b[1;33m)\u001b[0m\u001b[1;33m\u001b[0m\u001b[1;33m\u001b[0m\u001b[0m\n\u001b[0m",
      "\u001b[1;31mNameError\u001b[0m: name 'heights' is not defined"
     ]
    }
   ],
   "source": [
    "height = []\n",
    "\n",
    "for person in data[1:]:\n",
    "    height = int(person[2])\n",
    "    heights.append(height)"
   ]
  },
  {
   "cell_type": "code",
   "execution_count": 25,
   "metadata": {},
   "outputs": [],
   "source": [
    "heights = []\n",
    "\n",
    "for person in data[1:]:\n",
    "    height = int(person[2])\n",
    "    heights.append(height)"
   ]
  },
  {
   "cell_type": "code",
   "execution_count": 26,
   "metadata": {},
   "outputs": [
    {
     "name": "stdout",
     "output_type": "stream",
     "text": [
      "170.14835164835165\n"
     ]
    }
   ],
   "source": [
    "average_height = sum(heights)/len(heights)\n",
    "print(average_height)"
   ]
  },
  {
   "cell_type": "code",
   "execution_count": 1,
   "metadata": {},
   "outputs": [
    {
     "name": "stdout",
     "output_type": "stream",
     "text": [
      "30\n",
      "21\n",
      "33\n",
      "77\n",
      "44\n",
      "45\n",
      "23\n",
      "45\n",
      "12\n",
      "34\n",
      "55\n"
     ]
    }
   ],
   "source": [
    "advance_cm = [30, 21, 33, 77, 44, 45, 23, 45, 12, 34, 55]\n",
    "gain = 0\n",
    "\n",
    "for i in advance_cm:\n",
    "    gain = i\n",
    "    print(i)"
   ]
  },
  {
   "cell_type": "code",
   "execution_count": 27,
   "metadata": {},
   "outputs": [
    {
     "name": "stdout",
     "output_type": "stream",
     "text": [
      "10\n",
      "1\n",
      "13\n",
      "57\n",
      "24\n",
      "25\n",
      "3\n",
      "25\n",
      "-8\n",
      "14\n",
      "35\n",
      "Snail is out in 13\n"
     ]
    }
   ],
   "source": [
    "advance_cm = [30, 21, 33, 77, 44, 45, 23, 45, 12, 34, 55]\n",
    "nightly_distance = -20\n",
    "snail_position = 0\n",
    "snail_stuck = True\n",
    "days = 0\n",
    "well_height = 125\n",
    "\n",
    "for i in advance_cm[0:]:\n",
    "    gain = i\n",
    "    gain_per_day = gain + nightly_distance\n",
    "    print(gain_per_day)\n",
    "    \n",
    "    while snail_stuck:\n",
    "        snail_position += gain_per_day\n",
    "        days += 1\n",
    "        if snail_position > well_height:\n",
    "            snail_stuck = False\n",
    "            \n",
    "print(\"Snail is out in\", days)\n"
   ]
  },
  {
   "cell_type": "code",
   "execution_count": 24,
   "metadata": {},
   "outputs": [
    {
     "name": "stdout",
     "output_type": "stream",
     "text": [
      "10\n",
      "1\n",
      "13\n",
      "57\n",
      "24\n",
      "25\n",
      "3\n",
      "25\n",
      "-8\n",
      "14\n",
      "35\n",
      "10\n",
      "1\n",
      "13\n",
      "57\n",
      "24\n",
      "25\n",
      "3\n",
      "25\n",
      "-8\n",
      "14\n",
      "35\n",
      "10\n",
      "1\n",
      "13\n",
      "57\n",
      "24\n",
      "25\n",
      "3\n",
      "25\n",
      "-8\n",
      "14\n",
      "35\n",
      "10\n",
      "1\n",
      "13\n",
      "57\n",
      "24\n",
      "25\n",
      "3\n",
      "25\n",
      "-8\n",
      "14\n",
      "35\n",
      "Snail is out in 4 days\n"
     ]
    }
   ],
   "source": [
    "advance_cm = [30, 21, 33, 77, 44, 45, 23, 45, 12, 34, 55]\n",
    "nightly_distance = -20\n",
    "snail_position = 0\n",
    "snail_stuck = True\n",
    "days = 0\n",
    "well_height = 125\n",
    "gain = 0\n",
    "\n",
    "while snail_stuck:\n",
    "    for i in advance_cm:\n",
    "        gain = i\n",
    "        gain_per_day = gain + nightly_distance\n",
    "        print(gain_per_day)\n",
    "    snail_position += gain_per_day\n",
    "    days += 1\n",
    "    if snail_position > well_height:\n",
    "        snail_stuck = False\n",
    "            \n",
    "print(\"Snail is out in\", days, \"days\")"
   ]
  },
  {
   "cell_type": "code",
   "execution_count": 21,
   "metadata": {},
   "outputs": [
    {
     "name": "stdout",
     "output_type": "stream",
     "text": [
      "10\n",
      "1\n",
      "13\n",
      "57\n",
      "24\n",
      "25\n",
      "3\n",
      "25\n",
      "-8\n",
      "14\n",
      "35\n",
      "10\n",
      "1\n",
      "13\n",
      "57\n",
      "24\n",
      "25\n",
      "3\n",
      "25\n",
      "-8\n",
      "14\n",
      "35\n",
      "10\n",
      "1\n",
      "13\n",
      "57\n",
      "24\n",
      "25\n",
      "3\n",
      "25\n",
      "-8\n",
      "14\n",
      "35\n",
      "10\n",
      "1\n",
      "13\n",
      "57\n",
      "24\n",
      "25\n",
      "3\n",
      "25\n",
      "-8\n",
      "14\n",
      "35\n",
      "Snail is out in 4 days\n"
     ]
    }
   ],
   "source": [
    "advance_cm = [30, 21, 33, 77, 44, 45, 23, 45, 12, 34, 55]\n",
    "nightly_distance = -20\n",
    "snail_position = 0\n",
    "snail_stuck = True\n",
    "days = 0\n",
    "well_height = 125\n",
    "gain = 0\n",
    "\n",
    "while snail_stuck:    \n",
    "    snail_position += gain_per_day\n",
    "    days += 1\n",
    "    if snail_position > well_height:\n",
    "        snail_stuck = False\n",
    "\n",
    "    for i in advance_cm:\n",
    "        gain = i\n",
    "        gain_per_day = gain + nightly_distance\n",
    "        print(gain_per_day)\n",
    "            \n",
    "print(\"Snail is out in\", days, \"days\")"
   ]
  },
  {
   "cell_type": "code",
   "execution_count": 25,
   "metadata": {},
   "outputs": [
    {
     "name": "stdout",
     "output_type": "stream",
     "text": [
      "10\n",
      "1\n",
      "13\n",
      "57\n",
      "24\n",
      "25\n",
      "3\n",
      "25\n",
      "-8\n",
      "14\n",
      "35\n",
      "10\n",
      "1\n",
      "13\n",
      "57\n",
      "24\n",
      "25\n",
      "3\n",
      "25\n",
      "-8\n",
      "14\n",
      "35\n",
      "10\n",
      "1\n",
      "13\n",
      "57\n",
      "24\n",
      "25\n",
      "3\n",
      "25\n",
      "-8\n",
      "14\n",
      "35\n",
      "10\n",
      "1\n",
      "13\n",
      "57\n",
      "24\n",
      "25\n",
      "3\n",
      "25\n",
      "-8\n",
      "14\n",
      "35\n",
      "10\n",
      "1\n",
      "13\n",
      "57\n",
      "24\n",
      "25\n",
      "3\n",
      "25\n",
      "-8\n",
      "14\n",
      "35\n",
      "Snail is out in 4 days\n"
     ]
    }
   ],
   "source": [
    "advance_cm = [30, 21, 33, 77, 44, 45, 23, 45, 12, 34, 55]\n",
    "nightly_distance = -20\n",
    "snail_position = 0\n",
    "snail_stuck = True\n",
    "days = 0\n",
    "well_height = 125\n",
    "gain = 0\n",
    "\n",
    "for i in advance_cm:\n",
    "    gain = i\n",
    "    gain_per_day = i + nightly_distance\n",
    "    print(gain_per_day)\n",
    "            \n",
    "\n",
    "while snail_stuck:    \n",
    "    snail_position += gain_per_day\n",
    "    for i in advance_cm:\n",
    "        gain = i\n",
    "        gain_per_day = gain + nightly_distance\n",
    "        print(gain_per_day)\n",
    "    days += 1\n",
    "    if snail_position > well_height:\n",
    "        snail_stuck = False\n",
    "\n",
    "print(\"Snail is out in\", days, \"days\")"
   ]
  },
  {
   "cell_type": "code",
   "execution_count": 26,
   "metadata": {},
   "outputs": [
    {
     "name": "stdout",
     "output_type": "stream",
     "text": [
      "10\n",
      "1\n",
      "13\n",
      "57\n",
      "24\n",
      "25\n",
      "3\n",
      "25\n",
      "-8\n",
      "14\n",
      "35\n",
      "10\n",
      "1\n",
      "13\n",
      "57\n",
      "24\n",
      "25\n",
      "3\n",
      "25\n",
      "-8\n",
      "14\n",
      "35\n",
      "1 35\n",
      "10\n",
      "1\n",
      "13\n",
      "57\n",
      "24\n",
      "25\n",
      "3\n",
      "25\n",
      "-8\n",
      "14\n",
      "35\n",
      "2 70\n",
      "10\n",
      "1\n",
      "13\n",
      "57\n",
      "24\n",
      "25\n",
      "3\n",
      "25\n",
      "-8\n",
      "14\n",
      "35\n",
      "3 105\n",
      "10\n",
      "1\n",
      "13\n",
      "57\n",
      "24\n",
      "25\n",
      "3\n",
      "25\n",
      "-8\n",
      "14\n",
      "35\n",
      "4 140\n",
      "The snail needs 4 days to get out\n"
     ]
    }
   ],
   "source": [
    "advance_cm = [30, 21, 33, 77, 44, 45, 23, 45, 12, 34, 55]\n",
    "well_height = 125\n",
    "nightly_distance = -20\n",
    "snail_position = 0\n",
    "snail_stuck = True\n",
    "gain = 0\n",
    "days = 0\n",
    "\n",
    "for i in advance_cm:\n",
    "    gain = i\n",
    "    gain_per_day = gain + nightly_distance\n",
    "    print(gain_per_day)\n",
    "\n",
    "while snail_stuck:\n",
    "    for i in advance_cm:\n",
    "        gain = i\n",
    "        gain_per_day = gain + nightly_distance\n",
    "        print(gain_per_day)\n",
    "    snail_position += gain_per_day\n",
    "    days += 1\n",
    "    print(days, snail_position)\n",
    "    if snail_position > well_height:\n",
    "        snail_stuck = False\n",
    "    \n",
    "print(\"The snail needs\", days, \"days to get out\")"
   ]
  },
  {
   "cell_type": "code",
   "execution_count": 28,
   "metadata": {},
   "outputs": [
    {
     "name": "stdout",
     "output_type": "stream",
     "text": [
      "10\n",
      "1\n",
      "13\n",
      "57\n",
      "24\n",
      "25\n",
      "3\n",
      "25\n",
      "-8\n",
      "14\n",
      "35\n",
      "Snail is out in 13\n"
     ]
    }
   ],
   "source": [
    "advance_cm = [30, 21, 33, 77, 44, 45, 23, 45, 12, 34, 55]\n",
    "nightly_distance = -20\n",
    "snail_position = 0\n",
    "snail_stuck = True\n",
    "days = 0\n",
    "well_height = 125\n",
    "\n",
    "for i in advance_cm[0:]:\n",
    "    gain = i\n",
    "    gain_per_day = gain + nightly_distance\n",
    "    print(gain_per_day)\n",
    "    \n",
    "    while snail_stuck:\n",
    "        snail_position += gain_per_day\n",
    "        days += 1\n",
    "        if snail_position > well_height:\n",
    "            snail_stuck = False\n",
    "            \n",
    "print(\"Snail is out in\", days)"
   ]
  },
  {
   "cell_type": "code",
   "execution_count": 38,
   "metadata": {},
   "outputs": [
    {
     "name": "stdout",
     "output_type": "stream",
     "text": [
      "1 10\n",
      "2 11\n",
      "3 24\n",
      "4 81\n",
      "5 105\n",
      "6 130\n",
      "7 133\n",
      "8 158\n",
      "9 150\n",
      "10 164\n",
      "11 199\n",
      "Snail is out in 11\n"
     ]
    }
   ],
   "source": [
    "advance_cm = [30, 21, 33, 77, 44, 45, 23, 45, 12, 34, 55]\n",
    "nightly_distance = -20\n",
    "snail_position = 0\n",
    "snail_stuck = True\n",
    "days = 0\n",
    "well_height = 125\n",
    "\n",
    "while snail_stuck:\n",
    "    for i in advance_cm:\n",
    "        gain = i\n",
    "        gain_per_day = i + nightly_distance\n",
    "        snail_position += gain_per_day\n",
    "        days += 1\n",
    "        print(days, snail_position)\n",
    "    if snail_position > well_height:\n",
    "            snail_stuck = False\n",
    "            \n",
    "print(\"Snail is out in\", days)"
   ]
  },
  {
   "cell_type": "code",
   "execution_count": 42,
   "metadata": {},
   "outputs": [
    {
     "name": "stdout",
     "output_type": "stream",
     "text": [
      "1 10\n",
      "2 11\n",
      "3 24\n",
      "4 81\n",
      "5 105\n",
      "6 130\n",
      "7 133\n",
      "8 158\n",
      "9 150\n",
      "10 164\n",
      "11 199\n",
      "Snail is out in 11\n"
     ]
    }
   ],
   "source": [
    "advance_cm = [30, 21, 33, 77, 44, 45, 23, 45, 12, 34, 55]\n",
    "nightly_distance = -20\n",
    "snail_position = 0\n",
    "snail_stuck = True\n",
    "days = 0\n",
    "well_height = 125\n",
    "gain = 0\n",
    "gain_per_day = 0\n",
    "\n",
    "while snail_stuck:\n",
    "    \n",
    "    for i in advance_cm:\n",
    "        gain = i\n",
    "        gain_per_day = i + nightly_distance\n",
    "        snail_position += gain_per_day\n",
    "        days += 1\n",
    "        print(days, snail_position)\n",
    "        if snail_position > well_height:\n",
    "            snail_stuck = False\n",
    "            \n",
    "print(\"Snail is out in\", days)"
   ]
  },
  {
   "cell_type": "code",
   "execution_count": 45,
   "metadata": {},
   "outputs": [
    {
     "name": "stdout",
     "output_type": "stream",
     "text": [
      "10\n",
      "5\n",
      "8\n",
      "7\n",
      "6\n",
      "6\n",
      "13\n",
      "10\n",
      "5\n"
     ]
    }
   ],
   "source": [
    "stops = [(10, 0), (4, 1), (3, 5), (3, 4), (5, 1), (1, 5), (5, 8), (4, 6), (2, 3)]\n",
    "\n",
    "for stop in stops:\n",
    "    people_on_stop = sum(stop)\n",
    "    print(people_on_stop)\n",
    "    "
   ]
  },
  {
   "cell_type": "code",
   "execution_count": 50,
   "metadata": {},
   "outputs": [
    {
     "name": "stdout",
     "output_type": "stream",
     "text": [
      "[(4, 5), (0, 2), (4, 7), (1, -3), (3, -2), (4, 5), (3, 2), (5, 7), (-5, 7), (2, 2), (-4, 5), (0, -2), (-4, 7), (-1, 3), (-3, 2), (-4, -5), (-3, 2), (5, 7), (5, 7), (2, 2), (9, 9), (-8, -9)]\n"
     ]
    }
   ],
   "source": [
    "points = [(4, 5), (-0, 2), (4, 7), (1, -3), (3, -2), (4, 5), (3, 2), (5, 7), (-5, 7), (2, 2), (-4, 5), (0, -2),\n",
    "          (-4, 7), (-1, 3), (-3, 2), (-4, -5), (-3, 2), (5, 7), (5, 7), (2, 2), (9, 9), (-8, -9)]\n",
    "dup_points = set(points)\n",
    "arrow_on_arrow = []\n",
    "for (x,y) in points:\n",
    "    if (x,y) in dup_points:\n",
    "        arrow_on_arrow.append((x,y))\n",
    "print(arrow_on_arrow)\n",
    "    \n",
    "\n"
   ]
  },
  {
   "cell_type": "code",
   "execution_count": 53,
   "metadata": {},
   "outputs": [
    {
     "name": "stdout",
     "output_type": "stream",
     "text": [
      "[(4, 5), (-3, 2), (5, 7), (5, 7), (2, 2)]\n"
     ]
    }
   ],
   "source": [
    "points = [(4, 5), (-0, 2), (4, 7), (1, -3), (3, -2), (4, 5), (3, 2), (5, 7), (-5, 7), (2, 2), (-4, 5), (0, -2),\n",
    "          (-4, 7), (-1, 3), (-3, 2), (-4, -5), (-3, 2), (5, 7), (5, 7), (2, 2), (9, 9), (-8, -9)]\n",
    "uniq_points = []\n",
    "dupl_points = []\n",
    "for (x,y) in points:\n",
    "    if (x,y) not in uniq_points:\n",
    "        uniq_points.append((x,y))\n",
    "    else:\n",
    "        dupl_points.append((x,y))\n",
    "print(dupl_points)"
   ]
  },
  {
   "cell_type": "code",
   "execution_count": 65,
   "metadata": {},
   "outputs": [
    {
     "name": "stdout",
     "output_type": "stream",
     "text": [
      "Temperature above 80 °C, replace cooling system.\n",
      "More than 4 temperatures are greater than or equal to 70 °C, replace cooling system.\n"
     ]
    }
   ],
   "source": [
    "temperatures_C = [33, 66, 65, 60.25, 59, 60, 62, 64, 70, 76, 80, 81, 80, 83, 90, 79, 61, 53, 50, 49, 53, 48, 45, 39]\n",
    "total_hot_temps = 0\n",
    "avg_temp = sum(temperatures_C)/len(temperatures_C)\n",
    "\n",
    "for temps in temperatures_C:\n",
    "    if (temps >= 70):\n",
    "        total_hot_temps += 1\n",
    "    \n",
    "for temps in temperatures_C:\n",
    "    if (temps > 80):\n",
    "        print(\"Temperature above 80 °C, replace cooling system.\")\n",
    "        break\n",
    "    \n",
    "for temps in temperatures_C:\n",
    "    if (avg_temp > 65):\n",
    "        print(\"Average temperature exceeds 65 °C for the day, replace cooling system.\")\n",
    "\n",
    "if (total_hot_temps > 4):\n",
    "    print(\"More than 4 temperatures are greater than or equal to 70 °C, replace cooling system.\")"
   ]
  },
  {
   "cell_type": "code",
   "execution_count": 82,
   "metadata": {},
   "outputs": [
    {
     "name": "stdout",
     "output_type": "stream",
     "text": [
      "Temperature is above 70 °C for 4 consecutive hours, replace cooling system.\n",
      "Temperature is above 70 °C for 4 consecutive hours, replace cooling system.\n",
      "Temperature is above 70 °C for 4 consecutive hours, replace cooling system.\n",
      "Temperature is above 70 °C for 4 consecutive hours, replace cooling system.\n",
      "Temperature is above 70 °C for 4 consecutive hours, replace cooling system.\n",
      "Temperature is above 70 °C for 4 consecutive hours, replace cooling system.\n",
      "Temperature is above 70 °C for 4 consecutive hours, replace cooling system.\n",
      "Temperature is above 70 °C for 4 consecutive hours, replace cooling system.\n",
      "Temperature is above 70 °C for 4 consecutive hours, replace cooling system.\n",
      "Temperature is above 70 °C for 4 consecutive hours, replace cooling system.\n",
      "Temperature is above 70 °C for 4 consecutive hours, replace cooling system.\n",
      "Temperature is above 70 °C for 4 consecutive hours, replace cooling system.\n"
     ]
    }
   ],
   "source": [
    "temperatures_C = [33, 66, 65, 60.25, 59, 60, 62, 64, 70, 76, 80, 81, 80, 83, 90, 79, 61, 53, 50, 49, 53, 48, 45, 39]\n",
    "total_hot_temps = 0\n",
    "\n",
    "\n",
    "\n",
    "for temps in temperatures_C:\n",
    "    if (temps > 70):\n",
    "        total_hot_temps += 1\n",
    "    \n",
    "    if (total_hot_temps >= 4):\n",
    "        print(\"Temperature is above 70 °C for 4 consecutive hours, replace cooling system.\")\n",
    "        \n",
    "    elif (temps <= 70):\n",
    "        total_hot_temps = 0\n",
    "\n",
    "        "
   ]
  },
  {
   "cell_type": "code",
   "execution_count": null,
   "metadata": {},
   "outputs": [],
   "source": []
  },
  {
   "cell_type": "code",
   "execution_count": null,
   "metadata": {},
   "outputs": [],
   "source": []
  }
 ],
 "metadata": {
  "kernelspec": {
   "display_name": "Python 3",
   "language": "python",
   "name": "python3"
  },
  "language_info": {
   "codemirror_mode": {
    "name": "ipython",
    "version": 3
   },
   "file_extension": ".py",
   "mimetype": "text/x-python",
   "name": "python",
   "nbconvert_exporter": "python",
   "pygments_lexer": "ipython3",
   "version": "3.8.3"
  }
 },
 "nbformat": 4,
 "nbformat_minor": 4
}
