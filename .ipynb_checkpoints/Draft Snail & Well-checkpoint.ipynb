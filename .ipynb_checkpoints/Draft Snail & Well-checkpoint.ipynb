{
 "cells": [
  {
   "cell_type": "code",
   "execution_count": 5,
   "metadata": {},
   "outputs": [
    {
     "name": "stdout",
     "output_type": "stream",
     "text": [
      "1 10\n",
      "2 11\n",
      "3 24\n",
      "4 81\n",
      "5 105\n",
      "6 130\n",
      "7 133\n",
      "8 158\n",
      "9 150\n",
      "10 164\n",
      "11 199\n",
      "Snail is out in 11\n"
     ]
    }
   ],
   "source": [
    "advance_cm = [30, 21, 33, 77, 44, 45, 23, 45, 12, 34, 55]\n",
    "nightly_distance = -20\n",
    "snail_position = 0\n",
    "snail_stuck = True\n",
    "days = 0\n",
    "well_height = 125\n",
    "gain = 0\n",
    "gain_per_day = 0\n",
    "\n",
    "while snail_stuck:\n",
    "    \n",
    "    for i in advance_cm:\n",
    "        gain = i\n",
    "        gain_per_day = i + nightly_distance\n",
    "        snail_position += gain_per_day\n",
    "        days += 1\n",
    "        print(days, snail_position)\n",
    "        if snail_position > well_height:\n",
    "            snail_stuck = False\n",
    "            \n",
    "print(\"Snail is out in\", days)"
   ]
  },
  {
   "cell_type": "code",
   "execution_count": 7,
   "metadata": {},
   "outputs": [],
   "source": [
    "advance_cm = [30, 21, 33, 77, 44, 45, 23, 45, 12, 34, 55]\n",
    "nightly_distance = -20\n",
    "displacement = []\n",
    "\n",
    "for i in advance_cm:\n",
    "    difference = i + nightly_distance\n",
    "    displacement.append"
   ]
  },
  {
   "cell_type": "code",
   "execution_count": null,
   "metadata": {},
   "outputs": [],
   "source": [
    "max(displacement)"
   ]
  }
 ],
 "metadata": {},
 "nbformat": 4,
 "nbformat_minor": 4
}
