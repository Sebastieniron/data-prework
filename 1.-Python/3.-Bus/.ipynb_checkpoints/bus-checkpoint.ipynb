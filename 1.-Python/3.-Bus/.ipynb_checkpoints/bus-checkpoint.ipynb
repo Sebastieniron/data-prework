{
 "cells": [
  {
   "cell_type": "markdown",
   "metadata": {},
   "source": [
    "<img src=\"https://bit.ly/2VnXWr2\" width=\"100\" align=\"left\">"
   ]
  },
  {
   "cell_type": "markdown",
   "metadata": {},
   "source": [
    "# Bus\n",
    "\n",
    "This bus has a passenger entry and exit control system to monitor the number of occupants it carries and thus detect when there are too many.\n",
    "\n",
    "At each stop, the entry and exit of passengers is represented by a tuple consisting of two integer numbers.\n",
    "```\n",
    "bus_stop = (in, out)\n",
    "```\n",
    "The succession of stops is represented by a list of these tuples.\n",
    "```\n",
    "stops = [(in1, out1), (in2, out2), (in3, out3), (in4, out4)]\n",
    "```\n",
    "\n",
    "## Tools\n",
    "You don't necessarily need to use all the tools. Maybe you opt to use some of them or completely different ones, they are given to help you shape the exercise. Programming exercises can be solved in many different ways.\n",
    "* Data structures: **lists, tuples**\n",
    "* Loop: **while/for loops**\n",
    "* Functions: **min, max, len**\n",
    "\n",
    "## Tasks"
   ]
  },
  {
   "cell_type": "code",
   "execution_count": 2,
   "metadata": {},
   "outputs": [],
   "source": [
    "# Variables\n",
    "stops = [(10, 0), (4, 1), (3, 5), (3, 4), (5, 1), (1, 5), (5, 8), (4, 6), (2, 3)]"
   ]
  },
  {
   "cell_type": "markdown",
   "metadata": {},
   "source": [
    "#### 1. Calculate the number of stops."
   ]
  },
  {
   "cell_type": "code",
   "execution_count": 3,
   "metadata": {},
   "outputs": [
    {
     "data": {
      "text/plain": [
       "9"
      ]
     },
     "execution_count": 3,
     "metadata": {},
     "output_type": "execute_result"
    }
   ],
   "source": [
    "len(stops)"
   ]
  },
  {
   "cell_type": "markdown",
   "metadata": {},
   "source": [
    "#### 2. Assign to a variable a list whose elements are the number of passengers at each stop (in-out).\n",
    "Each item depends on the previous item in the list + in - out."
   ]
  },
  {
   "cell_type": "code",
   "execution_count": 29,
   "metadata": {},
   "outputs": [
    {
     "name": "stdout",
     "output_type": "stream",
     "text": [
      "[10, 5, 8, 7, 6, 6, 13, 10, 5]\n"
     ]
    }
   ],
   "source": [
    "persons_per_stop = []\n",
    "\n",
    "for stop in stops:\n",
    "    people_on_stop = sum(stop)\n",
    "    persons_per_stop.append(people_on_stop)\n",
    "    \n",
    "print(persons_per_stop)\n",
    "\n",
    "        \n"
   ]
  },
  {
   "cell_type": "markdown",
   "metadata": {},
   "source": [
    "#### 3. Find the maximum occupation of the bus."
   ]
  },
  {
   "cell_type": "code",
   "execution_count": 44,
   "metadata": {},
   "outputs": [
    {
     "name": "stdout",
     "output_type": "stream",
     "text": [
      "List for people getting up per stop [10, 4, 3, 3, 5, 1, 5, 4, 2]\n",
      "List for people getting out per stop [0, 1, 5, 4, 1, 5, 8, 6, 3]\n",
      "List for total persons on bus per stop [10, 13, 11, 10, 14, 10, 7, 5, 4]\n",
      "Maximal occupation at one time on the bus is: 14\n"
     ]
    }
   ],
   "source": [
    "total_on_bus = []\n",
    "get_in_stop = []\n",
    "get_out_stop = []\n",
    "m = 0\n",
    "n = 0\n",
    "\n",
    "for stop in stops:\n",
    "    get_in = stops[m][n]\n",
    "    m += 1\n",
    "    get_in_stop.append(get_in)\n",
    "    \n",
    "x = 0\n",
    "y = 1\n",
    "\n",
    "for stop in stops:\n",
    "    get_out = stops[x][y]\n",
    "    x += 1\n",
    "    get_out_stop.append(get_out)\n",
    "    \n",
    "print(\"List for people getting up per stop\", get_in_stop)\n",
    "print(\"List for people getting out per stop\", get_out_stop)\n",
    "\n",
    "total = 0\n",
    "\n",
    "for (getin, getout) in zip(get_in_stop, get_out_stop):\n",
    "    persons_on_bus = getin - getout\n",
    "    total += persons_on_bus\n",
    "    total_on_bus.append(total)\n",
    "\n",
    "print(\"List for total persons on bus per stop\", total_on_bus)\n",
    "print(\"Maximal occupation at one time on the bus is:\", max(total_on_bus))\n",
    "\n"
   ]
  },
  {
   "cell_type": "markdown",
   "metadata": {},
   "source": [
    "#### 4. Calculate the average occupation. And the standard deviation."
   ]
  },
  {
   "cell_type": "code",
   "execution_count": 49,
   "metadata": {},
   "outputs": [
    {
     "name": "stdout",
     "output_type": "stream",
     "text": [
      "9.333333333333334 is the average occupation.\n"
     ]
    }
   ],
   "source": [
    "print(sum(total_on_bus)/len(total_on_bus), \"is the average occupation.\")"
   ]
  },
  {
   "cell_type": "code",
   "execution_count": 50,
   "metadata": {},
   "outputs": [
    {
     "name": "stdout",
     "output_type": "stream",
     "text": [
      "3.197221015541813 is the standard deviation.\n"
     ]
    }
   ],
   "source": [
    "mean = sum(total_on_bus) / len(total_on_bus) \n",
    "variance = sum([((x - mean) ** 2) for x in total_on_bus]) / len(total_on_bus)\n",
    "stdev = variance ** 0.5\n",
    "print(stdev, \"is the standard deviation.\")"
   ]
  },
  {
   "cell_type": "code",
   "execution_count": null,
   "metadata": {},
   "outputs": [],
   "source": []
  }
 ],
 "metadata": {
  "kernelspec": {
   "display_name": "Python 3",
   "language": "python",
   "name": "python3"
  },
  "language_info": {
   "codemirror_mode": {
    "name": "ipython",
    "version": 3
   },
   "file_extension": ".py",
   "mimetype": "text/x-python",
   "name": "python",
   "nbconvert_exporter": "python",
   "pygments_lexer": "ipython3",
   "version": "3.8.3"
  }
 },
 "nbformat": 4,
 "nbformat_minor": 2
}
