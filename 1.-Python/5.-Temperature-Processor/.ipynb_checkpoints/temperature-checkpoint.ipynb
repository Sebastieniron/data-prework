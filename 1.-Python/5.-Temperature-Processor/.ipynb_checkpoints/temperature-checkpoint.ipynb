{
 "cells": [
  {
   "cell_type": "markdown",
   "metadata": {},
   "source": [
    "<img src=\"https://bit.ly/2VnXWr2\" width=\"100\" align=\"left\">"
   ]
  },
  {
   "cell_type": "markdown",
   "metadata": {},
   "source": [
    "# Temperature Sensor\n",
    "\n",
    "There is a temperature sensor in the processor of your company's server. The company wants to analyze the data provided by the sensor to decide if they should change the cooling system for a better one. As changing the cooling system is expensive and you are an excellent data analyst, you can't make a decision without basis.\n",
    "\n",
    "## Tools\n",
    "You don't necessarily need to use all the tools. Maybe you opt to use some of them or completely different ones, they are given to help you shape the exercise. Programming exercises can be solved in many different ways.\n",
    "1. Data structures: **lists**\n",
    "2. Loops: **list comprehension**\n",
    "3. Functions: **min, max, print, len**\n",
    "4. Conditional statements: **if-elif-else**\n",
    "\n",
    "## Tasks\n",
    "The temperatures measured throughout the 24 hours of a day are:"
   ]
  },
  {
   "cell_type": "code",
   "execution_count": 2,
   "metadata": {},
   "outputs": [],
   "source": [
    "temperatures_C = [33, 66, 65, 0, 59, 60, 62, 64, 70, 76, 80, 81, 80, 83, 90, 79, 61, 53, 50, 49, 53, 48, 45, 39]"
   ]
  },
  {
   "cell_type": "markdown",
   "metadata": {},
   "source": [
    "The first element of the list is the temperature at 12am, the second element is the temperature at 1am, and so on. \n",
    "\n",
    "The company has decided that if one of the following events occurs, then the cooling system needs to be replaced for a new one to avoid damaging the processor.\n",
    "* More than 4 temperatures are greater than or equal to 70ºC.\n",
    "* Any temperature is above 80ºC.\n",
    "* The average temperature exceeds 65ºC.\n",
    "\n",
    "Follow the steps so that you can make the decision.\n",
    "\n",
    "#### 1. Find the minimum temperature of the day and store it in a variable."
   ]
  },
  {
   "cell_type": "code",
   "execution_count": 3,
   "metadata": {
    "scrolled": true
   },
   "outputs": [
    {
     "name": "stdout",
     "output_type": "stream",
     "text": [
      "Minimal temperature is: 0 C\n"
     ]
    }
   ],
   "source": [
    "min_temp = min(temperatures_C)\n",
    "print(\"Minimal temperature is:\", min_temp, \"C\")"
   ]
  },
  {
   "cell_type": "markdown",
   "metadata": {},
   "source": [
    "#### 2. Find the maximum temperature of the day and store it in a variable."
   ]
  },
  {
   "cell_type": "code",
   "execution_count": 4,
   "metadata": {},
   "outputs": [
    {
     "name": "stdout",
     "output_type": "stream",
     "text": [
      "Maximal temperature is: 90 C\n"
     ]
    }
   ],
   "source": [
    "max_temp = max(temperatures_C)\n",
    "print(\"Maximal temperature is:\", max_temp, \"C\")"
   ]
  },
  {
   "cell_type": "markdown",
   "metadata": {},
   "source": [
    "#### 3. Create a list with the temperatures that are greater than or equal to 70ºC. Store it in a variable."
   ]
  },
  {
   "cell_type": "code",
   "execution_count": 5,
   "metadata": {},
   "outputs": [
    {
     "name": "stdout",
     "output_type": "stream",
     "text": [
      "These are the hot temperatures: [70, 76, 80, 81, 80, 83, 90, 79]\n"
     ]
    }
   ],
   "source": [
    "hot_temp = []\n",
    "\n",
    "for temps in temperatures_C:\n",
    "    if (temps >= 70):\n",
    "        hot_temp.append(temps)\n",
    "        \n",
    "print(\"These are the hot temperatures:\", hot_temp)"
   ]
  },
  {
   "cell_type": "markdown",
   "metadata": {},
   "source": [
    "#### 4. Find the average temperature of the day and store it in a variable."
   ]
  },
  {
   "cell_type": "code",
   "execution_count": 6,
   "metadata": {},
   "outputs": [
    {
     "name": "stdout",
     "output_type": "stream",
     "text": [
      "Average temperature for the day is: 60.25\n"
     ]
    }
   ],
   "source": [
    "avg_temp = sum(temperatures_C)/len(temperatures_C)\n",
    "print(\"Average temperature for the day is:\", avg_temp)"
   ]
  },
  {
   "cell_type": "markdown",
   "metadata": {},
   "source": [
    "#### 5. Imagine that there was a sensor failure at 3am and the data for that specific hour was not recorded. How would you estimate the missing value? Replace the current value of the list at 3am for an estimation. "
   ]
  },
  {
   "cell_type": "code",
   "execution_count": 7,
   "metadata": {},
   "outputs": [
    {
     "name": "stdout",
     "output_type": "stream",
     "text": [
      "60.25\n",
      "[33, 66, 65, 60.25, 59, 60, 62, 64, 70, 76, 80, 81, 80, 83, 90, 79, 61, 53, 50, 49, 53, 48, 45, 39]\n"
     ]
    }
   ],
   "source": [
    "temperatures_C[3] = 60.25\n",
    "print(temperatures_C[3])\n",
    "print(temperatures_C)\n"
   ]
  },
  {
   "cell_type": "markdown",
   "metadata": {},
   "source": [
    "#### 6. Bonus: the maintenance staff is from the United States and does not understand the international metric system. Help them by converting the temperatures from Celsius to Fahrenheit.\n",
    "To know more about temperature conversion check this [link](https://en.wikipedia.org/wiki/Conversion_of_units_of_temperature).\n",
    "\n",
    "**Formula**: \n",
    "\n",
    "$F = 1.8 * C + 32$"
   ]
  },
  {
   "cell_type": "code",
   "execution_count": 8,
   "metadata": {},
   "outputs": [
    {
     "name": "stdout",
     "output_type": "stream",
     "text": [
      "[91.4, 150.8, 149.0, 140.45, 138.2, 140.0, 143.60000000000002, 147.2, 158.0, 168.8, 176.0, 177.8, 176.0, 181.4, 194.0, 174.20000000000002, 141.8, 127.4, 122.0, 120.2, 127.4, 118.4, 113.0, 102.2]\n"
     ]
    }
   ],
   "source": [
    "temperatures_F = []\n",
    "\n",
    "for temps in temperatures_C:\n",
    "    F = 1.8 * temps + 32\n",
    "    temperatures_F.append(F)\n",
    "    \n",
    "print(temperatures_F)"
   ]
  },
  {
   "cell_type": "markdown",
   "metadata": {},
   "source": [
    "#### 7. Make a decision!\n",
    "Now it's time to make a decision taking into account what you have seen until now. \n",
    "\n",
    "Remember that if one of the following events occurs, then the cooling system needs to be replaced for a new one to avoid damaging the processor.\n",
    "* More than 4 temperatures are greater than or equal to 70ºC.\n",
    "* Any temperature is above 80ºC.\n",
    "* The average temperature exceeds 65ºC.\n",
    "\n",
    "#### To make your decision, check if any of the three conditions above is met. You might need to use some of the variables you created in steps 1 to 6. Print a message to show if the cooling system needs to be changed or not."
   ]
  },
  {
   "cell_type": "code",
   "execution_count": 9,
   "metadata": {},
   "outputs": [
    {
     "name": "stdout",
     "output_type": "stream",
     "text": [
      "Temperature above 80 °C, replace cooling system.\n",
      "More than 4 temperatures are greater than or equal to 70 °C, replace cooling system.\n"
     ]
    }
   ],
   "source": [
    "total_hot_temps = 0\n",
    "\n",
    "for temps in temperatures_C:\n",
    "    if (temps >= 70):\n",
    "        total_hot_temps += 1\n",
    "    \n",
    "for temps in temperatures_C:\n",
    "    if (temps > 80):\n",
    "        print(\"Temperature above 80 °C, replace cooling system.\")\n",
    "        break\n",
    "    \n",
    "for temps in temperatures_C:\n",
    "    if (avg_temp > 65):\n",
    "        print(\"Average temperature exceeds 65 °C for the day, replace cooling system.\")\n",
    "\n",
    "if (total_hot_temps > 4):\n",
    "    print(\"More than 4 temperatures are greater than or equal to 70 °C, replace cooling system.\")"
   ]
  },
  {
   "cell_type": "markdown",
   "metadata": {},
   "source": [
    "## Bonus\n",
    "\n",
    "The company has decided that the decision you made is not valid. They want you to analyze the data again but this time, the conditions that need to be met in order to change the cooling system are different.\n",
    "\n",
    "This time, if one of the following events occurs, then the cooling system needs to be replaced:\n",
    "* The temperature is greater than 70ºC during more than 4 consecutive hours.\n",
    "* Any temperature is above 80ºC.\n",
    "* The average temperature exceeds 65ºC.\n",
    "\n",
    "Follow the steps so that you can make the decision.\n",
    "\n",
    "#### 1. Create a list with the hours where the temperature is greater than 70ºC. Store it in a variable."
   ]
  },
  {
   "cell_type": "code",
   "execution_count": 10,
   "metadata": {},
   "outputs": [
    {
     "name": "stdout",
     "output_type": "stream",
     "text": [
      "These are the hot temperatures: [76, 80, 81, 80, 83, 90, 79]\n"
     ]
    }
   ],
   "source": [
    "hot_temp2 = []\n",
    "\n",
    "for temps in temperatures_C:\n",
    "    if (temps > 70):\n",
    "        hot_temp2.append(temps)\n",
    "        \n",
    "print(\"These are the hot temperatures:\", hot_temp2)"
   ]
  },
  {
   "cell_type": "markdown",
   "metadata": {},
   "source": [
    "#### 2. Check if the list you created in step 1 has more than 4 consecutive hours. "
   ]
  },
  {
   "cell_type": "code",
   "execution_count": 12,
   "metadata": {},
   "outputs": [
    {
     "name": "stdout",
     "output_type": "stream",
     "text": [
      "More than 4 temperatures are greater than or equal to 70 °C, replace cooling system.\n"
     ]
    }
   ],
   "source": [
    "total_hot_temps = 0\n",
    "\n",
    "for temps in temperatures_C:\n",
    "    if (temps >= 70):\n",
    "        total_hot_temps += 1\n",
    "        if (total_hot_temps > 4):\n",
    "            print(\"More than 4 temperatures are greater than or equal to 70 °C, replace cooling system.\")\n",
    "            break\n",
    "            \n",
    "    elif (temps <= 70):\n",
    "        total_hot_temps = 0"
   ]
  },
  {
   "cell_type": "markdown",
   "metadata": {},
   "source": [
    "#### 3. Make the decision!\n",
    "To make your decision, check if any of the three conditions is met. Print a message to show if the cooling system needs to be changed or not."
   ]
  },
  {
   "cell_type": "code",
   "execution_count": 15,
   "metadata": {},
   "outputs": [
    {
     "name": "stdout",
     "output_type": "stream",
     "text": [
      "More than 4 consecutive temperatures are greater than or equal to 70 °C, replace cooling system.\n",
      "Temperature above 80 °C, replace cooling system.\n"
     ]
    }
   ],
   "source": [
    "total_hot_temps = 0\n",
    "\n",
    "for temps in temperatures_C:\n",
    "    if (temps >= 70):\n",
    "        total_hot_temps += 1\n",
    "        if (total_hot_temps > 4):\n",
    "            print(\"More than 4 consecutive temperatures are greater than or equal to 70 °C, replace cooling system.\")\n",
    "            break\n",
    "        \n",
    "    elif (temps <= 70):\n",
    "        total_hot_temps = 0\n",
    "    \n",
    "for temps in temperatures_C:\n",
    "    if (temps > 80):\n",
    "        print(\"Temperature above 80 °C, replace cooling system.\")\n",
    "        break\n",
    "    \n",
    "for temps in temperatures_C:\n",
    "    if (avg_temp > 65):\n",
    "        print(\"Average temperature exceeds 65 °C for the day, replace cooling system.\")"
   ]
  },
  {
   "cell_type": "markdown",
   "metadata": {},
   "source": [
    "#### 4. Find the average value of the temperature lists (ºC and ºF). What is the relation between both average values?"
   ]
  },
  {
   "cell_type": "code",
   "execution_count": 21,
   "metadata": {},
   "outputs": [
    {
     "name": "stdout",
     "output_type": "stream",
     "text": [
      "144.96875\n",
      "62.760416666666664\n",
      "The relation is the formula: avg_tempC * 1,8 + 32 = tempF\n"
     ]
    }
   ],
   "source": [
    "avg_tempF = sum(temperatures_F)/len(temperatures_F)\n",
    "print(avg_tempF)\n",
    "avg_tempC = sum(temperatures_C)/len(temperatures_C)\n",
    "print(avg_tempC)\n",
    "print(\"The relation is the formula: avg_tempC * 1,8 + 32 = tempF\")"
   ]
  },
  {
   "cell_type": "markdown",
   "metadata": {},
   "source": [
    "#### 5. Find the standard deviation of the temperature lists (ºC and ºF). What is the relation between both standard deviations?"
   ]
  },
  {
   "cell_type": "code",
   "execution_count": 23,
   "metadata": {},
   "outputs": [
    {
     "name": "stdout",
     "output_type": "stream",
     "text": [
      "26.35526438754694\n",
      "14.64181354863719\n",
      "The relationship is stdev_tempC * 1,8 = stdev_tempF\n"
     ]
    }
   ],
   "source": [
    "mean_tempF = avg_tempF\n",
    "mean_tempC = avg_tempC\n",
    "variance_tempF = sum([((temps - mean_tempF) ** 2) for temps in temperatures_F]) / len(temperatures_F)\n",
    "variance_tempC = sum([((temps - mean_tempC) ** 2) for temps in temperatures_C]) / len(temperatures_C)\n",
    "stdev_tempF = variance_tempF ** 0.5\n",
    "stdev_tempC = variance_tempC ** 0.5\n",
    "print(stdev_tempF)\n",
    "print(stdev_tempC)\n",
    "print(\"The relationship is stdev_tempC * 1,8 = stdev_tempF\")"
   ]
  },
  {
   "cell_type": "code",
   "execution_count": null,
   "metadata": {},
   "outputs": [],
   "source": []
  }
 ],
 "metadata": {
  "kernelspec": {
   "display_name": "Python 3",
   "language": "python",
   "name": "python3"
  },
  "language_info": {
   "codemirror_mode": {
    "name": "ipython",
    "version": 3
   },
   "file_extension": ".py",
   "mimetype": "text/x-python",
   "name": "python",
   "nbconvert_exporter": "python",
   "pygments_lexer": "ipython3",
   "version": "3.8.3"
  }
 },
 "nbformat": 4,
 "nbformat_minor": 2
}
