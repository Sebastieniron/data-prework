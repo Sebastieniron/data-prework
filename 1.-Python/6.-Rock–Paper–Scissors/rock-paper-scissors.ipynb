{
 "cells": [
  {
   "cell_type": "markdown",
   "metadata": {},
   "source": [
    "<img src=\"https://bit.ly/2VnXWr2\" width=\"100\" align=\"left\">"
   ]
  },
  {
   "cell_type": "markdown",
   "metadata": {},
   "source": [
    "# Rock, Paper & Scissors\n",
    "\n",
    "Let's play the famous game against our computer. You can check the rules [here](https://en.wikipedia.org/wiki/Rock%E2%80%93paper%E2%80%93scissors). \n",
    "\n",
    "## Task\n",
    "Create a program that imitates the playability of the well known game of rock, paper, scissors. Follow the guidelines provided.\n",
    "\n",
    "## Tools\n",
    "1. Loop: **for/while**\n",
    "2. Functions: **input(), print()...**\n",
    "3. Conditional statements: **if, elif, else**\n",
    "4. Definition of functions. Modular programming\n",
    "5. Import modules\n",
    "\n",
    "**To solve this challenge, the use of functions is recommended.**\n",
    "\n",
    "#### 1. Import the choice function of the random module."
   ]
  },
  {
   "cell_type": "code",
   "execution_count": 42,
   "metadata": {},
   "outputs": [],
   "source": [
    "import random\n",
    "\n"
   ]
  },
  {
   "cell_type": "markdown",
   "metadata": {},
   "source": [
    "#### 2. Create a list that includes the 3 possible gesture options of the game: 'rock', 'paper' or 'scissors'. Store the list in a variable called `gestures`."
   ]
  },
  {
   "cell_type": "code",
   "execution_count": 43,
   "metadata": {},
   "outputs": [],
   "source": [
    "gestures = [\"rock\", \"paper\", \"scissors\"]"
   ]
  },
  {
   "cell_type": "markdown",
   "metadata": {},
   "source": [
    "#### 3. Create a variable called `n_rounds` to store the maximum number of rounds to play in a game. \n",
    "Remember that the number of rounds must be odd: 1, 3, 5, ..."
   ]
  },
  {
   "cell_type": "code",
   "execution_count": 44,
   "metadata": {},
   "outputs": [],
   "source": [
    "n_rounds = 0"
   ]
  },
  {
   "cell_type": "markdown",
   "metadata": {},
   "source": [
    "#### 4. Create a variable called `rounds_to_win` to store the number of rounds that a player must win to win the game.\n",
    "**Hint**: the value stored in `rounds_to_win` depends on the value of `n_rounds`. "
   ]
  },
  {
   "cell_type": "code",
   "execution_count": 45,
   "metadata": {},
   "outputs": [],
   "source": [
    "rounds_to_win = 5"
   ]
  },
  {
   "cell_type": "markdown",
   "metadata": {},
   "source": [
    "#### 5. Create two variables to store the number of rounds that the computer and the player have won. Call these variables `cpu_score` and `player_score`."
   ]
  },
  {
   "cell_type": "code",
   "execution_count": 46,
   "metadata": {},
   "outputs": [],
   "source": [
    "cpu_score = 0\n",
    "player_score = 0"
   ]
  },
  {
   "cell_type": "markdown",
   "metadata": {},
   "source": [
    "#### 6. Define a function that randomly returns one of the 3 gesture options.\n",
    "You will use this function to simulate the gesture choice of the computer. "
   ]
  },
  {
   "cell_type": "code",
   "execution_count": 47,
   "metadata": {},
   "outputs": [
    {
     "name": "stdout",
     "output_type": "stream",
     "text": [
      "random gesture from CPU is: scissors\n"
     ]
    }
   ],
   "source": [
    "gesture_cpu = random.choice(gestures)\n",
    "print(\"random gesture from CPU is:\", random.choice(gestures))\n"
   ]
  },
  {
   "cell_type": "markdown",
   "metadata": {},
   "source": [
    "#### 7. Define a function that asks the player which is the gesture he or she wants to show: 'rock', 'paper' or 'scissors'.\n",
    "The player should only be allowed to choose one of the 3 gesture options. If the player's choice is not rock, paper or scissors, keep asking until it is."
   ]
  },
  {
   "cell_type": "code",
   "execution_count": 48,
   "metadata": {},
   "outputs": [
    {
     "name": "stdout",
     "output_type": "stream",
     "text": [
      "random gesture from the player is: rock\n"
     ]
    }
   ],
   "source": [
    "gesture_player = random.choice(gestures)\n",
    "print(\"random gesture from the player is:\", random.choice(gestures))"
   ]
  },
  {
   "cell_type": "markdown",
   "metadata": {},
   "source": [
    "#### 8. Define a function that checks who won a round. \n",
    "The function should return 0 if there is a tie, 1 if the computer wins and 2 if the player wins."
   ]
  },
  {
   "cell_type": "code",
   "execution_count": 53,
   "metadata": {},
   "outputs": [
    {
     "name": "stdout",
     "output_type": "stream",
     "text": [
      "CPU choice of gesture is: scissors . And the choice of gesture of the player is: paper .\n",
      "CPU wins, scissors beats paper.\n",
      "CPU choice of gesture is: paper . And the choice of gesture of the player is: scissors .\n",
      "Player wins, scissors beats paper.\n",
      "CPU choice of gesture is: paper . And the choice of gesture of the player is: paper .\n",
      "Tie\n",
      "CPU choice of gesture is: scissors . And the choice of gesture of the player is: paper .\n",
      "CPU wins, scissors beats paper.\n",
      "CPU choice of gesture is: paper . And the choice of gesture of the player is: scissors .\n",
      "Player wins, scissors beats paper.\n",
      "CPU choice of gesture is: paper . And the choice of gesture of the player is: scissors .\n",
      "Player wins, scissors beats paper.\n",
      "CPU choice of gesture is: scissors . And the choice of gesture of the player is: scissors .\n",
      "Tie\n",
      "CPU choice of gesture is: rock . And the choice of gesture of the player is: paper .\n",
      "Player wins, paper beats rock.\n",
      "CPU choice of gesture is: scissors . And the choice of gesture of the player is: paper .\n",
      "CPU wins, scissors beats paper.\n",
      "CPU choice of gesture is: scissors . And the choice of gesture of the player is: paper .\n",
      "CPU wins, scissors beats paper.\n",
      "CPU choice of gesture is: rock . And the choice of gesture of the player is: paper .\n",
      "Player wins, paper beats rock.\n",
      "Congratulations player! You won against the computer in 11 rounds you were the first to win 5.\n"
     ]
    }
   ],
   "source": [
    "gestures = [\"rock\", \"paper\", \"scissors\"]\n",
    "cpu_score = 0\n",
    "player_score = 0\n",
    "n_rounds = 0\n",
    "\n",
    "while (cpu_score < 5) & (player_score < 5):\n",
    "\n",
    "    gesture_player = random.choice(gestures)\n",
    "    gesture_cpu = random.choice(gestures)\n",
    "    \n",
    "    print(\"CPU choice of gesture is:\", gesture_cpu, \". And the choice of gesture of the player is:\", gesture_player, \".\")\n",
    "    \n",
    "    if (gesture_player == \"rock\"):\n",
    "        if (gesture_cpu == \"paper\"):\n",
    "            print(\"CPU wins, paper beats rock.\")\n",
    "            cpu_score += 1\n",
    "\n",
    "    if(gesture_player == \"paper\"):\n",
    "        if(gesture_cpu == \"scissors\"):\n",
    "            print(\"CPU wins, scissors beats paper.\")\n",
    "            cpu_score += 1\n",
    "\n",
    "    if (gesture_player == \"scissors\"):\n",
    "        if (gesture_cpu == \"rock\"):\n",
    "            print(\"CPU wins, rock beats scissors.\")\n",
    "            cpu_score += 1\n",
    "        \n",
    "    if (gesture_cpu == \"rock\"):\n",
    "        if (gesture_player == \"paper\"):\n",
    "            print(\"Player wins, paper beats rock.\")\n",
    "            player_score += 1\n",
    "        \n",
    "    if (gesture_cpu == \"paper\"):\n",
    "        if (gesture_player == \"scissors\"):\n",
    "            print(\"Player wins, scissors beats paper.\")\n",
    "            player_score += 1\n",
    "        \n",
    "    if (gesture_cpu == \"scissors\"):\n",
    "        if (gesture_player == \"rock\"):\n",
    "            print(\"Player wins, rock beats scissors.\")\n",
    "            player_score += 1\n",
    "        \n",
    "    if (gesture_player == gesture_cpu):\n",
    "        print(\"Tie\")\n",
    "\n",
    "    n_rounds += 1\n",
    "\n",
    "if (player_score == 5):\n",
    "    print(\"Congratulations player! You won against the computer in\", n_rounds, \"rounds you were the first to win 5.\")\n",
    "    \n",
    "if (cpu_score == 5):\n",
    "    print(\"Congratulations CPU! You won against the player in\", n_rounds, \"rounds you were the first to win 5.\")\n",
    "    "
   ]
  },
  {
   "cell_type": "markdown",
   "metadata": {},
   "source": [
    "#### 9. Define a function that prints the choice of the computer, the choice of the player and a message that announces who won the current round. \n",
    "You should also use this function to update the variables that count the number of rounds that the computer and the player have won. The score of the winner increases by one point. If there is a tie, the score does not increase."
   ]
  },
  {
   "cell_type": "code",
   "execution_count": null,
   "metadata": {},
   "outputs": [],
   "source": []
  },
  {
   "cell_type": "markdown",
   "metadata": {},
   "source": [
    "#### 10. Now it's time to code the execution of the game using the functions and variables you defined above. \n",
    "\n",
    "First, create a loop structure that repeats while no player reaches the minimum score necessary to win and the number of rounds is less than the maximum number of rounds to play in a game.  \n",
    "\n",
    "Inside the loop, use the functions and variables above to create the execution of a round: ask for the player's choice, generate the random choice of the computer, show the round results, update the scores, etc. "
   ]
  },
  {
   "cell_type": "code",
   "execution_count": null,
   "metadata": {},
   "outputs": [],
   "source": []
  },
  {
   "cell_type": "markdown",
   "metadata": {},
   "source": [
    "#### 11. Print the winner of the game based on who won more rounds.\n",
    "Remember that the game might be tied. "
   ]
  },
  {
   "cell_type": "code",
   "execution_count": null,
   "metadata": {},
   "outputs": [],
   "source": []
  },
  {
   "cell_type": "markdown",
   "metadata": {},
   "source": [
    "# Bonus: Rock, Paper, Scissors, Lizard & Spock\n",
    "![](images/rpsls.jpg)\n",
    "\n",
    "In this challenge, you need to improve the previous game by adding two new options. To know more about the rules of the improved version of rock, paper, scissors, check this [link](http://www.samkass.com/theories/RPSSL.html). \n",
    "\n",
    "In addition, you will also need to improve how the game interacts with the player: the number of rounds to play, which must be an odd number, will be requested to the user until a valid number is entered. Define a new function to make that request.\n",
    "\n",
    "**Hint**: Try to reuse the code that you already coded in the previous challenge. If your code is efficient, this bonus will only consist of simple modifications to the original game."
   ]
  },
  {
   "cell_type": "code",
   "execution_count": 54,
   "metadata": {},
   "outputs": [
    {
     "name": "stdout",
     "output_type": "stream",
     "text": [
      "CPU choice of gesture is: scissors . And the choice of gesture of the player is: rock .\n",
      "Player wins, rock beats scissors.\n",
      "CPU choice of gesture is: rock . And the choice of gesture of the player is: spock .\n",
      "Player wins, spock beats rock.\n",
      "CPU choice of gesture is: scissors . And the choice of gesture of the player is: paper .\n",
      "CPU wins, scissors beats paper.\n",
      "CPU choice of gesture is: spock . And the choice of gesture of the player is: spock .\n",
      "Tie\n",
      "CPU choice of gesture is: paper . And the choice of gesture of the player is: scissors .\n",
      "Player wins, scissors beats paper.\n",
      "CPU choice of gesture is: rock . And the choice of gesture of the player is: scissors .\n",
      "CPU wins, rock beats scissors.\n",
      "CPU choice of gesture is: paper . And the choice of gesture of the player is: scissors .\n",
      "Player wins, scissors beats paper.\n",
      "CPU choice of gesture is: lizard . And the choice of gesture of the player is: spock .\n",
      "CPU wins, lizard beats spock.\n",
      "CPU choice of gesture is: rock . And the choice of gesture of the player is: paper .\n",
      "Player wins, paper beats rock.\n",
      "Congratulations player! You won against the computer in 9 rounds you were the first to win 5.\n"
     ]
    }
   ],
   "source": [
    "gestures = [\"rock\", \"paper\", \"scissors\", \"lizard\", \"spock\"]\n",
    "cpu_score = 0\n",
    "player_score = 0\n",
    "n_rounds = 0\n",
    "\n",
    "while (cpu_score < 5) & (player_score < 5):\n",
    "\n",
    "    gesture_player = random.choice(gestures)\n",
    "    gesture_cpu = random.choice(gestures)\n",
    "    \n",
    "    print(\"CPU choice of gesture is:\", gesture_cpu, \". And the choice of gesture of the player is:\", gesture_player, \".\")\n",
    "    \n",
    "    if (gesture_player == \"rock\"):\n",
    "        if (gesture_cpu == \"paper\"):\n",
    "            print(\"CPU wins, paper beats rock.\")\n",
    "            cpu_score += 1\n",
    "        if (gesture_cpu == \"spock\"):\n",
    "            print(\"CPU wins, spock beats rock.\")\n",
    "            cpu_score += 1\n",
    "\n",
    "    if (gesture_player == \"paper\"):\n",
    "        if (gesture_cpu == \"scissors\"):\n",
    "            print(\"CPU wins, scissors beats paper.\")\n",
    "            cpu_score += 1\n",
    "        if (gesture_cpu == \"lizard\"):\n",
    "            print(\"CPU wins, lizard beats paper.\")\n",
    "            cpu_score += 1\n",
    "\n",
    "    if (gesture_player == \"scissors\"):\n",
    "        if (gesture_cpu == \"rock\"):\n",
    "            print(\"CPU wins, rock beats scissors.\")\n",
    "            cpu_score += 1\n",
    "        if (gesture_cpu == \"spock\"):\n",
    "            print(\"CPU wins, spock beats scissors.\")\n",
    "            cpu_score += 1\n",
    "            \n",
    "    if (gesture_player == \"spock\"):\n",
    "        if (gesture_cpu == \"paper\"):\n",
    "            print(\"CPU wins, paper beats spock.\")\n",
    "            cpu_score += 1\n",
    "        if (gesture_cpu == \"lizard\"):\n",
    "            print(\"CPU wins, lizard beats spock.\")\n",
    "            cpu_score += 1\n",
    "            \n",
    "    if (gesture_player == \"lizard\"):\n",
    "        if (gesture_cpu == \"scissors\"):\n",
    "            print(\"CPU wins, scissors beats lizard.\")\n",
    "            cpu_score += 1\n",
    "        if (gesture_cpu == \"rock\"):\n",
    "            print(\"CPU wins, rock beats lizard.\")\n",
    "            cpu_score += 1\n",
    "        \n",
    "    if (gesture_cpu == \"rock\"):\n",
    "        if (gesture_player == \"paper\"):\n",
    "            print(\"Player wins, paper beats rock.\")\n",
    "            player_score += 1\n",
    "        if (gesture_player == \"spock\"):\n",
    "            print(\"Player wins, spock beats rock.\")\n",
    "            player_score += 1\n",
    "        \n",
    "    if (gesture_cpu == \"paper\"):\n",
    "        if (gesture_player == \"scissors\"):\n",
    "            print(\"Player wins, scissors beats paper.\")\n",
    "            player_score += 1\n",
    "        if (gesture_player == \"lizard\"):\n",
    "            print(\"Player wins, lizard beats paper.\")\n",
    "            player_score += 1\n",
    "        \n",
    "    if (gesture_cpu == \"scissors\"):\n",
    "        if (gesture_player == \"rock\"):\n",
    "            print(\"Player wins, rock beats scissors.\")\n",
    "            player_score += 1\n",
    "        if (gesture_player == \"spock\"):\n",
    "            print(\"Player wins, spock beats scissors.\")\n",
    "            player_score += 1\n",
    "            \n",
    "    if (gesture_cpu == \"spock\"):\n",
    "        if (gesture_player == \"paper\"):\n",
    "            print(\"Player wins, paper beats spock.\")\n",
    "            player_score += 1\n",
    "        if (gesture_player == \"lizard\"):\n",
    "            print(\"Player wins, lizard beats spock.\")\n",
    "            player_score += 1\n",
    "            \n",
    "    if (gesture_cpu == \"lizard\"):\n",
    "        if (gesture_player == \"scissors\"):\n",
    "            print(\"Player wins, scissors beats lizard.\")\n",
    "            player_score += 1\n",
    "        if (gesture_player == \"rock\"):\n",
    "            print(\"Player wins, rock beats lizard.\")\n",
    "            player_score += 1\n",
    "        \n",
    "    if (gesture_player == gesture_cpu):\n",
    "        print(\"Tie\")\n",
    "\n",
    "    n_rounds += 1\n",
    "\n",
    "if (player_score == 5):\n",
    "    print(\"Congratulations player! You won against the computer in\", n_rounds, \"rounds you were the first to win 5.\")\n",
    "    \n",
    "if (cpu_score == 5):\n",
    "    print(\"Congratulations CPU! You won against the player in\", n_rounds, \"rounds you were the first to win 5.\")"
   ]
  },
  {
   "cell_type": "code",
   "execution_count": null,
   "metadata": {},
   "outputs": [],
   "source": []
  }
 ],
 "metadata": {
  "kernelspec": {
   "display_name": "Python 3",
   "language": "python",
   "name": "python3"
  },
  "language_info": {
   "codemirror_mode": {
    "name": "ipython",
    "version": 3
   },
   "file_extension": ".py",
   "mimetype": "text/x-python",
   "name": "python",
   "nbconvert_exporter": "python",
   "pygments_lexer": "ipython3",
   "version": "3.8.3"
  }
 },
 "nbformat": 4,
 "nbformat_minor": 2
}
